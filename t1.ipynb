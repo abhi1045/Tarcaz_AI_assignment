{
 "cells": [
  {
   "cell_type": "code",
   "execution_count": 1,
   "metadata": {},
   "outputs": [],
   "source": [
    "import pandas as pd\n",
    "import numpy as np"
   ]
  },
  {
   "cell_type": "code",
   "execution_count": 2,
   "metadata": {},
   "outputs": [],
   "source": [
    "# df1 = pd.read_html('Charvi\\ Drishya\\ Kurtis.html')"
   ]
  },
  {
   "cell_type": "code",
   "execution_count": 3,
   "metadata": {},
   "outputs": [],
   "source": [
    "# with open(\"Charvi Drishya Kurtis.html\", \"r\") as f:\n",
    "#     print(f.read())"
   ]
  },
  {
   "cell_type": "code",
   "execution_count": 4,
   "metadata": {},
   "outputs": [],
   "source": [
    "from bs4 import BeautifulSoup\n",
    "\n",
    "soup = BeautifulSoup(open(\"Charvi Drishya Kurtis.html\"), \"html.parser\")\n",
    "\n",
    "# soup = BeautifulSoup(open(\"Aakarsha Petite Kurtis.html\"), \"html.parser\")\n",
    "\n",
    "# soup = BeautifulSoup(open(\"Akiko PLUS SIZE Cotton Slub Bandhej Print Anarkali Kurta.html\"), \"html.parser\")"
   ]
  },
  {
   "cell_type": "code",
   "execution_count": 5,
   "metadata": {},
   "outputs": [
    {
     "data": {
      "text/plain": [
       "<title>Charvi Drishya Kurtis</title>"
      ]
     },
     "execution_count": 5,
     "metadata": {},
     "output_type": "execute_result"
    }
   ],
   "source": [
    "soup.title"
   ]
  },
  {
   "cell_type": "code",
   "execution_count": 6,
   "metadata": {},
   "outputs": [],
   "source": [
    "# soup.contents"
   ]
  },
  {
   "cell_type": "code",
   "execution_count": null,
   "metadata": {},
   "outputs": [],
   "source": []
  },
  {
   "cell_type": "code",
   "execution_count": 7,
   "metadata": {},
   "outputs": [
    {
     "name": "stdout",
     "output_type": "stream",
     "text": [
      "Charvi Drishya Kurtis\n"
     ]
    }
   ],
   "source": [
    "# XPath to find the span with class Text__StyledText-oo0kvp-0 gpVzIL\n",
    "results = soup.select('span.Text__StyledText-oo0kvp-0.gpVzIL')\n",
    "\n",
    "# Check if results are found\n",
    "if results:\n",
    "  # Loop through the results\n",
    "  for result in results:\n",
    "    print(result.text.strip())  # Print the text content of the span\n",
    "else:\n",
    "  print(\"No elements found matching the XPath expression.\")"
   ]
  },
  {
   "cell_type": "code",
   "execution_count": 20,
   "metadata": {},
   "outputs": [
    {
     "name": "stdout",
     "output_type": "stream",
     "text": [
      "381\n",
      "Shop Non-Stop on Meesho\n"
     ]
    }
   ],
   "source": [
    "# XPath to find the span with class Text__StyledText-oo0kvp-0 gpVzIL\n",
    "results = soup.select('h4.Text__StyledText-oo0kvp-0.fka-Dwo')\n",
    "\n",
    "# Check if results are found\n",
    "if results:\n",
    "  # Loop through the results\n",
    "  for result in results:\n",
    "    print(result.text.strip().strip(\"₹\"))  # Print the text content of the span\n",
    "else:\n",
    "  print(\"No elements found matching the XPath expression.\")\n",
    "  "
   ]
  },
  {
   "cell_type": "code",
   "execution_count": 21,
   "metadata": {},
   "outputs": [
    {
     "name": "stdout",
     "output_type": "stream",
     "text": [
      "https://images.meesho.com/images/products/49452554/2vifx_512.webp\n"
     ]
    }
   ],
   "source": [
    "# Find all divs with the desired class\n",
    "divs = soup.find_all('div', class_=\"ProductDesktopImage__ImageWrapperDesktop-sc-8sgxcr-0 darDKL\")\n",
    "\n",
    "for div in divs:\n",
    "  # Find the picture element within the div\n",
    "  picture = div.find('picture')\n",
    "  if picture:\n",
    "    # Get all source elements\n",
    "    sources = picture.find_all('source')\n",
    "    for source in sources:\n",
    "      # Extract and print the srcset attribute\n",
    "      srcset = source.get('srcset')\n",
    "      if srcset:\n",
    "        print(srcset)"
   ]
  },
  {
   "cell_type": "code",
   "execution_count": 37,
   "metadata": {},
   "outputs": [
    {
     "name": "stdout",
     "output_type": "stream",
     "text": [
      "Name : Charvi Drishya Kurtis\n",
      "Fabric : Rayon\n",
      "Sleeve Length : Sleeveless\n",
      "Pattern : Applique\n",
      "Combo of : Single\n",
      "Sizes :\n",
      "S, M, L, XL, XXL\n",
      "Country of Origin : India\n"
     ]
    }
   ],
   "source": [
    "# Find the div with the desired class\n",
    "target_div = soup.find('div', class_=\"Card__BaseCard-b3n78k-0 WvMul ProductDescription__DetailsCardStyled-sc-1tmqkzf-0 eHfqpm ProductDescription__DetailsCardStyled-sc-1tmqkzf-0 eHfqpm\")\n",
    "\n",
    "if target_div:\n",
    "  # Find all p tags within the div\n",
    "  paragraphs = target_div.find_all('p')\n",
    "  \n",
    "  # Extract and print paragraph text\n",
    "  for paragraph in paragraphs:\n",
    "    print(paragraph.text.strip())\n",
    "else:\n",
    "  print(\"No div with the specified class found.\")"
   ]
  },
  {
   "cell_type": "code",
   "execution_count": null,
   "metadata": {},
   "outputs": [],
   "source": []
  },
  {
   "cell_type": "code",
   "execution_count": 13,
   "metadata": {},
   "outputs": [
    {
     "name": "stdout",
     "output_type": "stream",
     "text": [
      "VINODENTERPRISES\n",
      "View Shop\n"
     ]
    }
   ],
   "source": [
    "# Find the div with the desired class\n",
    "target_div = soup.find('div', class_=\"Card__BaseCard-b3n78k-0 cvPSDP ShopCardstyled__RightSection-du9pku-3 jsFRYw ShopCardstyled__RightSection-du9pku-3 jsFRYw\")\n",
    "\n",
    "if target_div:\n",
    "  # Find all span tags within the div\n",
    "  spans = target_div.find_all('span')\n",
    "  \n",
    "  # Extract and print span text\n",
    "  for span in spans:\n",
    "    print(span.text.strip())\n",
    "else:\n",
    "  print(\"No div with the specified class found.\")"
   ]
  },
  {
   "cell_type": "code",
   "execution_count": 15,
   "metadata": {},
   "outputs": [
    {
     "name": "stdout",
     "output_type": "stream",
     "text": [
      "VINODENTERPRISES\n"
     ]
    }
   ],
   "source": [
    "# Try finding a single element with all classes (modify class names if needed)\n",
    "target_span = soup.find('span', class_=\"Text__StyledText-oo0kvp-0 fFihtW ShopCardstyled__ShopName-du9pku-6 gdULmH ShopCardstyled__ShopName-du9pku-6 gdULmH\")\n",
    "\n",
    "if target_span:\n",
    "  # Get the text content from the single element\n",
    "  text = target_span.text.strip()\n",
    "  print(text)\n",
    "else:\n",
    "  # If not found, try finding all elements with these classes\n",
    "  target_spans = soup.find_all('span', class_=[\"Text__StyledText-oo0kvp-0 fFihtW\", \"ShopCardstyled__ShopName-du9pku-6 gdULmH\"])\n",
    "  if target_spans:\n",
    "    print(\"Found multiple spans:\")\n",
    "    for span in target_spans:\n",
    "      text = span.text.strip()\n",
    "      print(text)\n",
    "  else:\n",
    "    print(\"No span with the specified classes found.\")"
   ]
  },
  {
   "cell_type": "code",
   "execution_count": 25,
   "metadata": {},
   "outputs": [
    {
     "name": "stdout",
     "output_type": "stream",
     "text": [
      "VINODENTERPRISES\n"
     ]
    }
   ],
   "source": [
    "# Try finding a single element with all classes (modify class names if needed)\n",
    "target_span = soup.find('span', class_=\"Text__StyledText-oo0kvp-0 fFihtW ShopCardstyled__ShopName-du9pku-6 gdULmH ShopCardstyled__ShopName-du9pku-6 gdULmH\")\n",
    "\n",
    "# Check if results are found\n",
    "if target_span:\n",
    "  # Loop through the results\n",
    "  for result in target_span:\n",
    "    print(result.text.strip())  # Print the text content of the span\n",
    "else:\n",
    "  print(\"No elements found matching the XPath expression.\")"
   ]
  },
  {
   "cell_type": "code",
   "execution_count": 29,
   "metadata": {},
   "outputs": [
    {
     "data": {
      "text/plain": [
       "'V'"
      ]
     },
     "execution_count": 29,
     "metadata": {},
     "output_type": "execute_result"
    }
   ],
   "source": [
    "target_span.text"
   ]
  },
  {
   "cell_type": "code",
   "execution_count": 18,
   "metadata": {},
   "outputs": [
    {
     "name": "stdout",
     "output_type": "stream",
     "text": [
      "False\n"
     ]
    }
   ],
   "source": [
    "# Find the outer div with the desired class\n",
    "outer_div = soup.find('div', class_=\"Card__BaseCard-b3n78k-0 iRtiAW ShopCardstyled__ShopCardWrapper-du9pku-1 kCgmDc ShopCardstyled__ShopCardWrapper-du9pku-1 kCgmDc\")\n",
    "\n",
    "if outer_div:\n",
    "  # Check if the inner div is present within the outer div\n",
    "  inner_div = outer_div.find('div', class_=\"ShopCardstyled__MTrustedBadge-du9pku-10 brgtMn\")\n",
    "  if inner_div:\n",
    "    print(\"True\")  # Both outer and inner divs are present\n",
    "  else:\n",
    "    print(\"False\")  # Outer div found but inner div missing\n",
    "else:\n",
    "  print(\"False\")  # Outer div not found"
   ]
  },
  {
   "cell_type": "code",
   "execution_count": 32,
   "metadata": {},
   "outputs": [
    {
     "name": "stdout",
     "output_type": "stream",
     "text": [
      "3.9\n"
     ]
    }
   ],
   "source": [
    "# Try finding a single element with all classes (modify class names if needed)\n",
    "target_span = soup.find('span', class_=\"Text__StyledText-oo0kvp-0 tQNiu\")\n",
    "\n",
    "# Check if results are found\n",
    "if target_span:\n",
    "  # Loop through the results\n",
    "  for result in target_span:\n",
    "    print(result.text.strip())  # Print the text content of the span\n",
    "else:\n",
    "  print(\"No elements found matching the XPath expression.\")"
   ]
  },
  {
   "cell_type": "code",
   "execution_count": 56,
   "metadata": {},
   "outputs": [],
   "source": [
    "from bs4 import BeautifulSoup\n",
    "import numpy as np\n",
    "\n",
    "def get_required_values(file_path: str):\n",
    "    soup = BeautifulSoup(open(file_path), \"html.parser\")\n",
    "\n",
    "    listing_name = None\n",
    "    listing_price = np.NaN\n",
    "    listing_picture_url = None\n",
    "    product_details = None\n",
    "    name_of_seller = None\n",
    "    is_trusted_supplier = False\n",
    "    product_rating = np.NaN\n",
    "\n",
    "    ans = {\"Lisiting Name\": listing_name, \n",
    "           \"Lisiting Price\": listing_price,\n",
    "           \"Lisiting Picture URL\": listing_picture_url,\n",
    "           \"Product Details\": product_details,\n",
    "           \"Name of the Seller\": name_of_seller,\n",
    "           \"Is Trusted Supplier\": is_trusted_supplier,\n",
    "           \"Product Rating\": product_rating\n",
    "          }\n",
    "\n",
    "    # GET Listing Name\n",
    "    listing_name_list = soup.select('span.Text__StyledText-oo0kvp-0.gpVzIL')\n",
    "    if listing_name_list:\n",
    "        listing_name = listing_name_list[0].text.strip()\n",
    "\n",
    "    # GET Listing Price\n",
    "    listing_price_list = soup.select('h4.Text__StyledText-oo0kvp-0.fka-Dwo')\n",
    "    if listing_price_list:\n",
    "        listing_price = float(listing_price_list[0].text.strip().strip(\"₹\"))\n",
    "\n",
    "    # GET Listing Picture URL\n",
    "    listing_picture_url_list = soup.find_all('div', class_=\"ProductDesktopImage__ImageWrapperDesktop-sc-8sgxcr-0 darDKL\")\n",
    "    for div in listing_picture_url_list:\n",
    "        picture = div.find('picture')\n",
    "        if picture:\n",
    "            sources = picture.find_all('source')\n",
    "            for source in sources:\n",
    "                listing_picture_url = source.get('srcset')\n",
    "    \n",
    "    # GET Product Details\n",
    "    product_details_list = soup.find('div', class_=\"Card__BaseCard-b3n78k-0 WvMul ProductDescription__DetailsCardStyled-sc-1tmqkzf-0 eHfqpm ProductDescription__DetailsCardStyled-sc-1tmqkzf-0 eHfqpm\")\n",
    "    if product_details_list:\n",
    "        paragraphs = product_details_list.find_all('p')\n",
    "        product_details = \"\"\n",
    "        for paragraph in paragraphs:\n",
    "            temp = paragraph.text.strip()\n",
    "            product_details += temp\n",
    "\n",
    "    # GET Name of the Seller\n",
    "    name_of_seller_list = soup.find('span', class_=\"Text__StyledText-oo0kvp-0 fFihtW ShopCardstyled__ShopName-du9pku-6 gdULmH ShopCardstyled__ShopName-du9pku-6 gdULmH\")\n",
    "    if name_of_seller_list:\n",
    "        name_of_seller = name_of_seller_list.text.strip()\n",
    "    \n",
    "    # GET Trusted Supplier or not\n",
    "    is_trusted_supplier_list = soup.find('div', class_=\"Card__BaseCard-b3n78k-0 iRtiAW ShopCardstyled__ShopCardWrapper-du9pku-1 kCgmDc ShopCardstyled__ShopCardWrapper-du9pku-1 kCgmDc\")\n",
    "    if is_trusted_supplier_list:\n",
    "        inner_div = is_trusted_supplier_list.find('div', class_=\"ShopCardstyled__MTrustedBadge-du9pku-10 brgtMn\")\n",
    "        if inner_div:\n",
    "            is_trusted_supplier = True\n",
    "    \n",
    "\n",
    "    # GET Product Ratings - Star\n",
    "    product_rating_list = soup.find('span', class_=\"Text__StyledText-oo0kvp-0 tQNiu\")\n",
    "    if product_rating_list:\n",
    "        product_rating = float(product_rating_list.text.strip())\n",
    "\n",
    "    \n",
    "\n",
    "    return {\"Lisiting Name\": listing_name, \n",
    "           \"Lisiting Price\": listing_price,\n",
    "           \"Lisiting Picture URL\": listing_picture_url,\n",
    "           \"Product Details\": product_details,\n",
    "           \"Name of the Seller\": name_of_seller,\n",
    "           \"Is Trusted Supplier\": is_trusted_supplier,\n",
    "           \"Product Rating\": product_rating\n",
    "          }\n",
    "\n"
   ]
  },
  {
   "cell_type": "code",
   "execution_count": 59,
   "metadata": {},
   "outputs": [],
   "source": [
    "required_list_dict = list((get_required_values(\"Charvi Drishya Kurtis.html\"), get_required_values(\"Aakarsha Petite Kurtis.html\"), get_required_values(\"Akiko PLUS SIZE Cotton Slub Bandhej Print Anarkali Kurta.html\")))"
   ]
  },
  {
   "cell_type": "code",
   "execution_count": 60,
   "metadata": {},
   "outputs": [
    {
     "data": {
      "text/plain": [
       "[{'Lisiting Name': 'Charvi Drishya Kurtis',\n",
       "  'Lisiting Price': 381.0,\n",
       "  'Lisiting Picture URL': 'https://images.meesho.com/images/products/49452554/2vifx_512.webp',\n",
       "  'Product Details': 'Name\\xa0:\\xa0Charvi Drishya KurtisFabric\\xa0:\\xa0RayonSleeve Length\\xa0:\\xa0SleevelessPattern\\xa0:\\xa0AppliqueCombo of\\xa0:\\xa0SingleSizes\\xa0:S, M, L, XL, XXLCountry of Origin\\xa0:\\xa0India',\n",
       "  'Name of the Seller': 'VINODENTERPRISES',\n",
       "  'Is Trusted Supplier': False,\n",
       "  'Product Rating': 3.9},\n",
       " {'Lisiting Name': 'Aakarsha Petite Kurtis',\n",
       "  'Lisiting Price': 334.0,\n",
       "  'Lisiting Picture URL': 'https://images.meesho.com/images/products/43254172/zclzn_512.webp',\n",
       "  'Product Details': 'Name\\xa0:\\xa0Aakarsha Petite KurtisFabric\\xa0:\\xa0RayonSleeve Length\\xa0:\\xa0Long SleevesPattern\\xa0:\\xa0PrintedCombo of\\xa0:\\xa0SingleSizes\\xa0:XS (Bust Size\\xa0:\\xa034 in)S (Bust Size\\xa0:\\xa036 in)L (Bust Size\\xa0:\\xa040 in)XXL (Bust Size\\xa0:\\xa044 in)XXXL, 4XLCountry of Origin\\xa0:\\xa0India',\n",
       "  'Name of the Seller': 'Mani exports',\n",
       "  'Is Trusted Supplier': False,\n",
       "  'Product Rating': 4.0},\n",
       " {'Lisiting Name': 'Akiko PLUS SIZE Cotton Slub Bandhej Print Anarkali Kurta',\n",
       "  'Lisiting Price': 704.0,\n",
       "  'Lisiting Picture URL': 'https://images.meesho.com/images/products/42902925/2bfo2_512.webp',\n",
       "  'Product Details': \"Name\\xa0:\\xa0Akiko PLUS SIZE Cotton Slub Bandhej Print Anarkali KurtaFabric\\xa0:\\xa0CottonSleeve Length\\xa0:\\xa0Three-Quarter SleevesPattern\\xa0:\\xa0SolidCombo of\\xa0:\\xa0SingleSizes\\xa0:XS, S, M, L, XL, XXL (Bust Size\\xa0:\\xa044 in, Size Length: 49 in)XXXL (Bust Size\\xa0:\\xa046 in, Size Length: 49 in)An amazing range of women Plus Size Kurtas and kurtis in soft and solid colors that looks perfect for regular wear. With beautiful designs and patterns. These apparels are very stylish and comfortable too. Get rid of the 'regular' look this season wearing Kurta and Kurtis by YASH GALLERY. With a perfect blend of comfort and traditional style, This Beige Long Floral Print Anarkali Kurta from YASH GALLERY exhibits\\xa03/4th Sleeves and Mandarin Collar. Tailored from Cotton Blend fabric.Country of Origin\\xa0:\\xa0India\",\n",
       "  'Name of the Seller': 'YOGESH KUNDNANI',\n",
       "  'Is Trusted Supplier': True,\n",
       "  'Product Rating': 4.1}]"
      ]
     },
     "execution_count": 60,
     "metadata": {},
     "output_type": "execute_result"
    }
   ],
   "source": [
    "required_list_dict"
   ]
  },
  {
   "cell_type": "code",
   "execution_count": 61,
   "metadata": {},
   "outputs": [
    {
     "data": {
      "text/html": [
       "<div>\n",
       "<style scoped>\n",
       "    .dataframe tbody tr th:only-of-type {\n",
       "        vertical-align: middle;\n",
       "    }\n",
       "\n",
       "    .dataframe tbody tr th {\n",
       "        vertical-align: top;\n",
       "    }\n",
       "\n",
       "    .dataframe thead th {\n",
       "        text-align: right;\n",
       "    }\n",
       "</style>\n",
       "<table border=\"1\" class=\"dataframe\">\n",
       "  <thead>\n",
       "    <tr style=\"text-align: right;\">\n",
       "      <th></th>\n",
       "      <th>Lisiting Name</th>\n",
       "      <th>Lisiting Price</th>\n",
       "      <th>Lisiting Picture URL</th>\n",
       "      <th>Product Details</th>\n",
       "      <th>Name of the Seller</th>\n",
       "      <th>Is Trusted Supplier</th>\n",
       "      <th>Product Rating</th>\n",
       "    </tr>\n",
       "  </thead>\n",
       "  <tbody>\n",
       "    <tr>\n",
       "      <th>0</th>\n",
       "      <td>Charvi Drishya Kurtis</td>\n",
       "      <td>381.0</td>\n",
       "      <td>https://images.meesho.com/images/products/4945...</td>\n",
       "      <td>Name : Charvi Drishya KurtisFabric : RayonSlee...</td>\n",
       "      <td>VINODENTERPRISES</td>\n",
       "      <td>False</td>\n",
       "      <td>3.9</td>\n",
       "    </tr>\n",
       "    <tr>\n",
       "      <th>1</th>\n",
       "      <td>Aakarsha Petite Kurtis</td>\n",
       "      <td>334.0</td>\n",
       "      <td>https://images.meesho.com/images/products/4325...</td>\n",
       "      <td>Name : Aakarsha Petite KurtisFabric : RayonSle...</td>\n",
       "      <td>Mani exports</td>\n",
       "      <td>False</td>\n",
       "      <td>4.0</td>\n",
       "    </tr>\n",
       "    <tr>\n",
       "      <th>2</th>\n",
       "      <td>Akiko PLUS SIZE Cotton Slub Bandhej Print Anar...</td>\n",
       "      <td>704.0</td>\n",
       "      <td>https://images.meesho.com/images/products/4290...</td>\n",
       "      <td>Name : Akiko PLUS SIZE Cotton Slub Bandhej Pri...</td>\n",
       "      <td>YOGESH KUNDNANI</td>\n",
       "      <td>True</td>\n",
       "      <td>4.1</td>\n",
       "    </tr>\n",
       "  </tbody>\n",
       "</table>\n",
       "</div>"
      ],
      "text/plain": [
       "                                       Lisiting Name  Lisiting Price  \\\n",
       "0                              Charvi Drishya Kurtis           381.0   \n",
       "1                             Aakarsha Petite Kurtis           334.0   \n",
       "2  Akiko PLUS SIZE Cotton Slub Bandhej Print Anar...           704.0   \n",
       "\n",
       "                                Lisiting Picture URL  \\\n",
       "0  https://images.meesho.com/images/products/4945...   \n",
       "1  https://images.meesho.com/images/products/4325...   \n",
       "2  https://images.meesho.com/images/products/4290...   \n",
       "\n",
       "                                     Product Details Name of the Seller  \\\n",
       "0  Name : Charvi Drishya KurtisFabric : RayonSlee...   VINODENTERPRISES   \n",
       "1  Name : Aakarsha Petite KurtisFabric : RayonSle...       Mani exports   \n",
       "2  Name : Akiko PLUS SIZE Cotton Slub Bandhej Pri...    YOGESH KUNDNANI   \n",
       "\n",
       "   Is Trusted Supplier  Product Rating  \n",
       "0                False             3.9  \n",
       "1                False             4.0  \n",
       "2                 True             4.1  "
      ]
     },
     "execution_count": 61,
     "metadata": {},
     "output_type": "execute_result"
    }
   ],
   "source": [
    "df = pd.DataFrame.from_dict(required_list_dict)\n",
    "\n",
    "df"
   ]
  },
  {
   "cell_type": "code",
   "execution_count": 62,
   "metadata": {},
   "outputs": [],
   "source": [
    "df.to_csv(\"hmtl_to_csv.csv\", index = False)"
   ]
  },
  {
   "cell_type": "code",
   "execution_count": null,
   "metadata": {},
   "outputs": [],
   "source": [
    "https://colab.research.google.com/drive/14-qN6dSSclckx9QROQKxYrcSr0F382H0?usp=sharing"
   ]
  }
 ],
 "metadata": {
  "kernelspec": {
   "display_name": ".venv",
   "language": "python",
   "name": "python3"
  },
  "language_info": {
   "codemirror_mode": {
    "name": "ipython",
    "version": 3
   },
   "file_extension": ".py",
   "mimetype": "text/x-python",
   "name": "python",
   "nbconvert_exporter": "python",
   "pygments_lexer": "ipython3",
   "version": "3.9.18"
  }
 },
 "nbformat": 4,
 "nbformat_minor": 2
}
